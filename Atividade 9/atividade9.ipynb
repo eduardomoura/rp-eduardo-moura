{
 "metadata": {
  "language_info": {
   "codemirror_mode": {
    "name": "ipython",
    "version": 3
   },
   "file_extension": ".py",
   "mimetype": "text/x-python",
   "name": "python",
   "nbconvert_exporter": "python",
   "pygments_lexer": "ipython3",
   "version": "3.8.8-final"
  },
  "orig_nbformat": 2,
  "kernelspec": {
   "name": "python3",
   "display_name": "Python 3.8.8 64-bit ('.venv': venv)",
   "metadata": {
    "interpreter": {
     "hash": "91534afe22104461fccbb9559d7a81b8e299547346ec03f1d5d38bd2324a5909"
    }
   }
  }
 },
 "nbformat": 4,
 "nbformat_minor": 2,
 "cells": [
  {
   "cell_type": "code",
   "execution_count": 13,
   "metadata": {},
   "outputs": [],
   "source": [
    "import pandas as pd\n",
    "import warnings\n",
    "\n",
    "warnings.filterwarnings('ignore')\n",
    "\n",
    "df = pd.read_csv('titanic.csv')\n",
    "\n",
    "X,y = df.loc[1:, 'PassengerId':'Embarked'],df.loc[1:,'Survived']\n"
   ]
  },
  {
   "cell_type": "code",
   "execution_count": 14,
   "metadata": {},
   "outputs": [],
   "source": [
    "from sklearn.base import BaseEstimator, TransformerMixin\n",
    "\n",
    "def extraiPronome(nome):\n",
    "    return nome.split(',')[1].split('.')[0].strip()\n",
    "\n",
    "class AtributosDesejados(BaseEstimator, TransformerMixin):\n",
    "    def __init__(self, excluirName=True):\n",
    "        self.excluirName = excluirName\n",
    "    def fit(self, X, y=None):\n",
    "        self.colunasIndesejadas = ['PassengerId', 'Ticket', 'Cabin']\n",
    "        if self.excluirName:\n",
    "            self.colunasIndesejadas.append('Name')\n",
    "        return self\n",
    "    def transform(self, X, y=None):\n",
    "        Xdrop = X.drop(self.colunasIndesejadas,axis=1)\n",
    "        if 'Name' not in self.colunasIndesejadas:\n",
    "            Xdrop['Name'] = Xdrop['Name'].apply(extraiPronome)\n",
    "        return Xdrop\n"
   ]
  },
  {
   "cell_type": "code",
   "execution_count": 15,
   "metadata": {},
   "outputs": [],
   "source": [
    "from sklearn.base import BaseEstimator, TransformerMixin\n",
    "\n",
    "class AtributosNumericos(BaseEstimator, TransformerMixin):\n",
    "    def fit(self, X, y=None):\n",
    "        self.colunasNumericas = X.select_dtypes(include='number').columns\n",
    "        return self\n",
    "    def transform(self, X, y=None):\n",
    "        return X[self.colunasNumericas].to_numpy()\n"
   ]
  },
  {
   "cell_type": "code",
   "execution_count": 16,
   "metadata": {},
   "outputs": [],
   "source": [
    "from sklearn.base import BaseEstimator, TransformerMixin\n",
    "\n",
    "class AtributosCategoricos(BaseEstimator, TransformerMixin):\n",
    "    def fit(self, X, y=None):\n",
    "        self.colunasCategoricas = X.select_dtypes(include='object').columns\n",
    "        return self\n",
    "    def transform(self, X, y=None):\n",
    "        return X[self.colunasCategoricas].to_numpy()\n"
   ]
  },
  {
   "cell_type": "code",
   "execution_count": 17,
   "metadata": {},
   "outputs": [],
   "source": [
    "from sklearn.impute import SimpleImputer\n",
    "from sklearn.preprocessing import OneHotEncoder, StandardScaler\n",
    "from sklearn.pipeline import Pipeline, FeatureUnion\n",
    "\n",
    "trataAtributos = Pipeline([\n",
    "    ('unecaracteristicas', FeatureUnion([\n",
    "        ('pipenum', Pipeline([\n",
    "            ('atributos_numericos', AtributosNumericos()),\n",
    "            ('imputer', SimpleImputer(strategy='median')),\n",
    "            ('scaler', StandardScaler())\n",
    "        ])),\n",
    "        ('pipecat', Pipeline([\n",
    "            ('atributos_categoricos', AtributosCategoricos()),\n",
    "            ('imputer', SimpleImputer(strategy='most_frequent')),\n",
    "            ('encoder', OneHotEncoder(handle_unknown='ignore'))\n",
    "        ]))\n",
    "    ])),\n",
    "])\n"
   ]
  },
  {
   "cell_type": "code",
   "execution_count": 18,
   "metadata": {},
   "outputs": [],
   "source": [
    "from sklearn.ensemble import RandomForestClassifier\n",
    "from sklearn.model_selection import GridSearchCV, cross_validate\n",
    "import numpy as np\n",
    "from sklearn.ensemble import RandomForestClassifier\n",
    "from sklearn.ensemble import AdaBoostClassifier\n",
    "from sklearn.ensemble import ExtraTreesClassifier\n",
    "from sklearn.ensemble import BaggingClassifier\n",
    "from sklearn.ensemble import RandomForestClassifier\n",
    "from sklearn.tree import DecisionTreeClassifier\n",
    "from sklearn.linear_model import LogisticRegression\n",
    "from sklearn.neighbors import KNeighborsClassifier\n",
    "from sklearn.ensemble import StackingClassifier\n",
    "from sklearn.ensemble import VotingClassifier\n",
    "\n",
    "voting = VotingClassifier([\n",
    "        ('knn', KNeighborsClassifier()),\n",
    "        ('rf', RandomForestClassifier(random_state=42)),\n",
    "        ('lr', LogisticRegression())\n",
    "    ])\n",
    "\n",
    "pipetotal = Pipeline([\n",
    "    ('atributosDesejados', AtributosDesejados()),\n",
    "    ('trataAtributos', trataAtributos),\n",
    "    ('voting', voting)\n",
    "])\n",
    "\n",
    "\n",
    "parametros = {'atributosDesejados__excluirName': [True, False],\n",
    "    'voting__voting': ['hard', 'soft'],\n",
    "    'voting__knn__n_neighbors': [5,8],\n",
    "    #'voting__rf__max_depth': [None, 5,10],\n",
    "    #'voting__rf__criterion': ['gini', 'entropy'],\n",
    "    #'voting__rf__random_state': [None, 42],\n",
    "    #'voting__lr__penalty': ['l1', 'l2']}\n",
    "}\n",
    "modelo = GridSearchCV(pipetotal, param_grid=parametros,n_jobs=-1)\n",
    "\n",
    "scores = cross_validate(modelo, X, y, cv=10,n_jobs=-1)\n",
    "\n",
    "print(f\"Acurácia Voting: {np.mean(scores['test_score'])}\")"
   ]
  },
  {
   "cell_type": "code",
   "execution_count": null,
   "metadata": {},
   "outputs": [],
   "source": [
    "stack = StackingClassifier([\n",
    "    ('ada', AdaBoostClassifier(DecisionTreeClassifier(max_depth=25, splitter='random'))),\n",
    "    ('ext', ExtraTreesClassifier(random_state=42)),\n",
    "    ('bag', BaggingClassifier(n_jobs=-1,random_state=42))\n",
    "])    \n",
    "\n",
    "pipetotal2 = Pipeline([\n",
    "    ('atributosDesejados', AtributosDesejados()),\n",
    "    ('trataAtributos', trataAtributos),\n",
    "    ('stack', stack)\n",
    "])\n",
    "\n",
    "\n",
    "parametros2 = {'atributosDesejados__excluirName': [True, False],\n",
    "    'stack__cv': [3, 5],\n",
    "    'stack__passthrough': [True, False],\n",
    "    'stack__final_estimator': [LogisticRegression(), KNeighborsClassifier()],\n",
    "    #'stack__ada__random_state': [None,42],\n",
    "    #'stack__ada__learning_rate': [0.15,0.25],\n",
    "    #'stack__ext__criterion': ['gini', 'entropy'],\n",
    "    #'stack__ext__random_state': [None, 42],\n",
    "    #'stack__bag__random_state': [None,42]}\n",
    "}\n",
    "modelo2 = GridSearchCV(pipetotal2, param_grid=parametros2,n_jobs=-1)\n",
    "\n",
    "scores2 = cross_validate(modelo2, X, y, cv=10,n_jobs=-1)\n",
    "\n",
    "print(f\"Acurácia Stacking: {np.mean(scores2['test_score'])}\")"
   ]
  }
 ]
}