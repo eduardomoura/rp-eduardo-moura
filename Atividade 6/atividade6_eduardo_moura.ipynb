{
 "metadata": {
  "language_info": {
   "codemirror_mode": {
    "name": "ipython",
    "version": 3
   },
   "file_extension": ".py",
   "mimetype": "text/x-python",
   "name": "python",
   "nbconvert_exporter": "python",
   "pygments_lexer": "ipython3",
   "version": "3.8.7-final"
  },
  "orig_nbformat": 2,
  "kernelspec": {
   "name": "python3",
   "display_name": "Python 3",
   "language": "python"
  }
 },
 "nbformat": 4,
 "nbformat_minor": 2,
 "cells": [
  {
   "cell_type": "code",
   "execution_count": 26,
   "metadata": {},
   "outputs": [
    {
     "output_type": "stream",
     "name": "stdout",
     "text": [
      "Acurácia: 0.8215480649188514\n\n\n"
     ]
    }
   ],
   "source": [
    "from sklearn.pipeline import Pipeline\n",
    "from sklearn.model_selection import cross_validate, GridSearchCV\n",
    "from sklearn.impute import SimpleImputer\n",
    "from sklearn.preprocessing import StandardScaler\n",
    "import pandas as pd\n",
    "from sklearn.metrics import make_scorer,accuracy_score\n",
    "import numpy as np\n",
    "from sklearn.feature_selection import VarianceThreshold\n",
    "from sklearn.preprocessing import OneHotEncoder\n",
    "from sklearn.compose import ColumnTransformer\n",
    "from sklearn.ensemble import RandomForestClassifier\n",
    "from sklearn.ensemble import AdaBoostClassifier\n",
    "from sklearn.ensemble import ExtraTreesClassifier\n",
    "from sklearn.svm import LinearSVC\n",
    "from sklearn.feature_selection import SelectFromModel\n",
    "from sklearn.ensemble import BaggingClassifier\n",
    "from sklearn.ensemble import RandomForestClassifier\n",
    "from sklearn.ensemble import VotingClassifier\n",
    "from sklearn.tree import DecisionTreeClassifier\n",
    "from sklearn.naive_bayes import GaussianNB\n",
    "from sklearn.linear_model import LogisticRegression\n",
    "from sklearn.linear_model import SGDClassifier\n",
    "from sklearn.neighbors import KNeighborsClassifier\n",
    "from sklearn.ensemble import StackingClassifier\n",
    "from sklearn.base import BaseEstimator, TransformerMixin\n",
    "\n",
    "class AtributosDesejados(BaseEstimator, TransformerMixin):\n",
    "    def fit(self, X, y=None):\n",
    "        self.colunasIndesejadas = ['Name', 'Ticket', 'Cabin','SibSp','Parch']\n",
    "        return self\n",
    "    def transform(self, X, y=None):\n",
    "        return X.drop(self.colunasIndesejadas,axis=1)\n",
    "\n",
    "\n",
    "train = pd.read_csv('train.csv')\n",
    "test = pd.read_csv('test.csv')\n",
    "\n",
    "y = train['Survived']\n",
    "X = train.drop('Survived',axis=1)\n",
    "\n",
    "t = [('num', SimpleImputer(strategy='median'), ['Pclass', 'Age', 'Fare']), ('cat', SimpleImputer(strategy='most_frequent'), ['Sex', 'Embarked'])]\n",
    "transformer = ColumnTransformer(transformers=t)\n",
    "\n",
    "\n",
    "clf1 = RandomForestClassifier()\n",
    "clf2 = BaggingClassifier()\n",
    "clf3 = ExtraTreesClassifier()\n",
    "clf4 = AdaBoostClassifier()\n",
    "clf5 = DecisionTreeClassifier()\n",
    "clf6 = LogisticRegression()\n",
    "clf7 = KNeighborsClassifier()\n",
    "\n",
    "#eclf = StackingClassifier(estimators=[('rf', clf1), ('rbgf', clf2),('et',clf3),('ab',clf4),('hg',clf5)\n",
    "#,('knn',clf7)], final_estimator=clf6, n_jobs=-1)\n",
    "\n",
    "\n",
    "eclf = VotingClassifier(estimators=[('rf', clf1), ('rbgf', clf2),('et',clf3),('ab',clf4),('hg',clf5)\n",
    ",('lr',clf6),('knn',clf7)], n_jobs=-1)\n",
    "\n",
    "pipeline = Pipeline([('atributos_desejados', AtributosDesejados()),('transformar', transformer),('encoder', OneHotEncoder(handle_unknown='ignore')),('v',VarianceThreshold()),('selecao_caracteristicas', SelectFromModel(LinearSVC())),('alg',eclf)])      \n",
    "\n",
    "parametros = {'alg__voting': ['hard', 'soft']}\n",
    "#parametros = {'alg__stack_method': ['auto']}\n",
    "           \n",
    "scoring = {'accuracy': make_scorer(accuracy_score)}\n",
    "modelo = GridSearchCV(pipeline, parametros, scoring=scoring,refit='accuracy')\n",
    "\n",
    "scores = cross_validate(modelo, X, y,cv=10, scoring=scoring,return_estimator=True)\n",
    "\n",
    "\n",
    "print(f\"Acurácia: {np.mean(scores['test_accuracy'])}\"+\"\\n\\n\")    \n",
    "\n",
    "modelo.fit(X,y)\n",
    "y_pred = modelo.predict(test)\n",
    "result = test[['PassengerId']]\n",
    "result['Survived'] = y_pred\n",
    "result.to_csv('gender_submission.csv',index=False)\n"
   ]
  },
  {
   "cell_type": "code",
   "execution_count": null,
   "metadata": {},
   "outputs": [],
   "source": []
  }
 ]
}