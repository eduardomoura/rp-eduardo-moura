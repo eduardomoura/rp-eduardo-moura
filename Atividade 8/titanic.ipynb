{
 "metadata": {
  "language_info": {
   "codemirror_mode": {
    "name": "ipython",
    "version": 3
   },
   "file_extension": ".py",
   "mimetype": "text/x-python",
   "name": "python",
   "nbconvert_exporter": "python",
   "pygments_lexer": "ipython3",
   "version": "3.8.8-final"
  },
  "orig_nbformat": 2,
  "kernelspec": {
   "name": "python3",
   "display_name": "Python 3",
   "language": "python"
  }
 },
 "nbformat": 4,
 "nbformat_minor": 2,
 "cells": [
  {
   "cell_type": "code",
   "execution_count": 200,
   "metadata": {},
   "outputs": [],
   "source": [
    "import pandas as pd\n",
    "import numpy as np\n",
    "\n",
    "train = pd.read_csv('train.csv')\n",
    "test = pd.read_csv('test.csv')\n",
    "X = train[list(test.columns)]\n",
    "y = train[train.columns[~train.columns.isin(test.columns)]]\n",
    "\n",
    "y = np.squeeze(y)\n"
   ]
  },
  {
   "cell_type": "code",
   "execution_count": 201,
   "metadata": {},
   "outputs": [],
   "source": [
    "from sklearn.base import BaseEstimator, TransformerMixin\n",
    "\n",
    "def extraiPronome(nome):\n",
    "    return nome.split(',')[1].split('.')[0].strip()\n",
    "\n",
    "def extraiAgeBin(age):\n",
    "    return pd.cut(age, bins=[0,12,20,40,120], labels=['Children','Teenage','Adult','Elder'])\n",
    "\n",
    "def extraiFareBin(fare):\n",
    "    return pd.cut(fare, bins=[0,7.91,14.45,31,120], labels=['Low_fare','median_fare','Average_fare','high_fare'])        \n",
    "\n",
    "class AtributosDesejados(BaseEstimator, TransformerMixin):\n",
    "    def __init__(self, excluirName=True,incluirAgeBin=True,incluirFareBin=True):\n",
    "        self.excluirName = excluirName\n",
    "        self.incluirAgeBin = incluirAgeBin\n",
    "        self.incluirFareBin = incluirFareBin\n",
    "    def fit(self, X, y=None):\n",
    "        self.colunasIndesejadas = ['PassengerId', 'Ticket', 'Cabin']\n",
    "        if self.excluirName:\n",
    "            self.colunasIndesejadas.append('Name')          \n",
    "        return self\n",
    "    def transform(self, X, y=None):\n",
    "        Xdrop = X.drop(self.colunasIndesejadas,axis=1)\n",
    "        if 'Name' not in self.colunasIndesejadas:\n",
    "            Xdrop['Name'] = Xdrop['Name'].apply(extraiPronome)\n",
    "        if self.incluirAgeBin:\n",
    "            Xdrop['Age_Bin'] = extraiAgeBin(Xdrop['Age'])\n",
    "        if self.incluirFareBin:\n",
    "            Xdrop['Fare_bin'] = extraiFareBin(Xdrop['Fare'])\n",
    "        return Xdrop"
   ]
  },
  {
   "cell_type": "code",
   "execution_count": 202,
   "metadata": {},
   "outputs": [],
   "source": [
    "from sklearn.base import BaseEstimator, TransformerMixin\n",
    "\n",
    "       \n",
    "\n",
    "class RemoveAtributosTransformados(BaseEstimator, TransformerMixin):\n",
    "    def fit(self, X, y=None):\n",
    "        self.colunasIndesejadas = ['Age', 'Fare']       \n",
    "        return self\n",
    "    def transform(self, X, y=None):\n",
    "        Xdrop = X.drop(self.colunasIndesejadas,axis=1)\n",
    "        return Xdrop"
   ]
  },
  {
   "cell_type": "code",
   "execution_count": 203,
   "metadata": {},
   "outputs": [],
   "source": [
    "from sklearn.base import BaseEstimator, TransformerMixin\n",
    "\n",
    "class AtributosNumericos(BaseEstimator, TransformerMixin):\n",
    "    def fit(self, X, y=None):\n",
    "        self.colunasNumericas = X.select_dtypes(include='number').columns\n",
    "        return self\n",
    "    def transform(self, X, y=None):\n",
    "        return X[self.colunasNumericas].to_numpy()\n"
   ]
  },
  {
   "cell_type": "code",
   "execution_count": 204,
   "metadata": {},
   "outputs": [],
   "source": [
    "from sklearn.base import BaseEstimator, TransformerMixin\n",
    "\n",
    "class AtributosCategoricos(BaseEstimator, TransformerMixin):\n",
    "    def fit(self, X, y=None):\n",
    "        self.colunasCategoricas = X.select_dtypes(include='object').columns\n",
    "        return self\n",
    "    def transform(self, X, y=None):\n",
    "        return X[self.colunasCategoricas].to_numpy()\n"
   ]
  },
  {
   "cell_type": "code",
   "execution_count": 205,
   "metadata": {},
   "outputs": [],
   "source": [
    "from sklearn.impute import SimpleImputer\n",
    "from sklearn.preprocessing import OneHotEncoder, StandardScaler\n",
    "from sklearn.pipeline import Pipeline, FeatureUnion\n",
    "\n",
    "trataAtributos = Pipeline([\n",
    "    ('unecaracteristicas', FeatureUnion([\n",
    "        ('pipenum', Pipeline([\n",
    "            ('atributos_numericos', AtributosNumericos()),\n",
    "            ('imputer', SimpleImputer(strategy='median')),\n",
    "            ('scaler', StandardScaler())\n",
    "        ])),\n",
    "        ('pipecat', Pipeline([\n",
    "            ('atributos_categoricos', AtributosCategoricos()),\n",
    "            ('imputer', SimpleImputer(strategy='most_frequent')),\n",
    "            ('encoder', OneHotEncoder(handle_unknown='ignore'))\n",
    "        ]))\n",
    "    ])),\n",
    "])\n"
   ]
  },
  {
   "cell_type": "code",
   "execution_count": 206,
   "metadata": {},
   "outputs": [
    {
     "output_type": "execute_result",
     "data": {
      "text/plain": [
       "(array([0.83798883, 0.85393258, 0.83707865, 0.79775281, 0.8258427 ,\n",
       "        0.83240223, 0.84269663, 0.84269663, 0.80898876, 0.79775281,\n",
       "        0.88268156, 0.78651685, 0.84831461, 0.80898876, 0.82022472,\n",
       "        0.84357542, 0.84269663, 0.82022472, 0.83146067, 0.80898876,\n",
       "        0.75977654, 0.83146067, 0.83707865, 0.86516854, 0.83707865,\n",
       "        0.79888268, 0.85393258, 0.81460674, 0.80898876, 0.85955056,\n",
       "        0.82681564, 0.80337079, 0.84269663, 0.87640449, 0.79775281,\n",
       "        0.79888268, 0.82022472, 0.82022472, 0.81460674, 0.88202247,\n",
       "        0.8547486 , 0.80337079, 0.84269663, 0.76404494, 0.82022472,\n",
       "        0.81564246, 0.79213483, 0.83146067, 0.82022472, 0.83146067]),\n",
       " 0.8259268093653884,\n",
       " 0.02621255330541184)"
      ]
     },
     "metadata": {},
     "execution_count": 206
    }
   ],
   "source": [
    "from sklearn.ensemble import RandomForestClassifier\n",
    "from sklearn.model_selection import GridSearchCV, cross_validate, RepeatedKFold\n",
    "from sklearn.feature_selection import VarianceThreshold\n",
    "from sklearn.metrics import accuracy_score, make_scorer, precision_score\n",
    "\n",
    "pipetotal = Pipeline([\n",
    "    ('atributosDesejados', AtributosDesejados()),\n",
    "    ('removeAtributosTransformados',RemoveAtributosTransformados()),\n",
    "    ('trataAtributos', trataAtributos),\n",
    "    ('variance',VarianceThreshold()),\n",
    "    ('classificador', RandomForestClassifier())\n",
    "])\n",
    "\n",
    "parametros = {\n",
    "    'atributosDesejados__excluirName': [True, False],\n",
    "    'classificador__max_depth': [5],\n",
    "    'trataAtributos__unecaracteristicas__pipenum__imputer__strategy': ['mean','most_frequent'],\n",
    "    'trataAtributos__unecaracteristicas__pipecat__imputer__strategy': ['mean','most_frequent','median'],\n",
    "    'trataAtributos__unecaracteristicas__pipenum__scaler__copy': [True,False],\n",
    "    'variance__threshold': [0,3]    \n",
    "}\n",
    "scoring = {'precision': make_scorer(precision_score, average='macro'), 'accuracy': make_scorer(accuracy_score)}\n",
    "\n",
    "modelo = GridSearchCV(pipetotal, param_grid=parametros,n_jobs=-1,scoring=scoring,refit=\"accuracy\")\n",
    "\n",
    "scores = cross_validate(modelo, X, y, cv=RepeatedKFold())\n",
    "scores['test_score'], np.mean(scores['test_score']), np.std(scores['test_score'])"
   ]
  },
  {
   "cell_type": "code",
   "execution_count": 207,
   "metadata": {},
   "outputs": [
    {
     "output_type": "stream",
     "name": "stderr",
     "text": [
      "<ipython-input-207-6d60e704ec3a>:4: SettingWithCopyWarning: \nA value is trying to be set on a copy of a slice from a DataFrame.\nTry using .loc[row_indexer,col_indexer] = value instead\n\nSee the caveats in the documentation: https://pandas.pydata.org/pandas-docs/stable/user_guide/indexing.html#returning-a-view-versus-a-copy\n  result['Survived'] = y_pred\n"
     ]
    }
   ],
   "source": [
    "modelo.fit(X,y)\n",
    "y_pred = modelo.predict(test)\n",
    "result = test[['PassengerId']]\n",
    "result['Survived'] = y_pred\n",
    "result.to_csv('submission.csv',index=False)"
   ]
  }
 ]
}